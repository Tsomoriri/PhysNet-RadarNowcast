{
 "cells": [
  {
   "cell_type": "markdown",
   "metadata": {},
   "source": [
    "# Importing Modules"
   ]
  },
  {
   "cell_type": "code",
   "execution_count": null,
   "metadata": {},
   "outputs": [],
   "source": [
    "import numpy as np\n",
    "import torch\n",
    "import torch.nn as nn\n",
    "import matplotlib.pyplot as plt\n",
    "import matplotlib.cm as cm\n",
    "import os\n",
    "import math\n",
    "import imageio"
   ]
  },
  {
   "cell_type": "markdown",
   "metadata": {},
   "source": [
    "# Define Neural Network"
   ]
  },
  {
   "cell_type": "code",
   "execution_count": null,
   "metadata": {},
   "outputs": [],
   "source": [
    "class FCN(nn.Module):\n",
    "    \"Defines a connected network\"\n",
    "    \n",
    "    def __init__(self, N_INPUT, N_OUTPUT, N_HIDDEN, N_LAYERS):\n",
    "        super().__init__()\n",
    "        activation = nn.Tanh\n",
    "        self.fcs = nn.Sequential(*[\n",
    "                        nn.Linear(N_INPUT, N_HIDDEN),\n",
    "                        activation()])\n",
    "        self.fch = nn.Sequential(*[\n",
    "                        nn.Sequential(*[\n",
    "                            nn.Linear(N_HIDDEN, N_HIDDEN),\n",
    "                            activation()]) for _ in range(N_LAYERS-1)])\n",
    "        self.fce = nn.Linear(N_HIDDEN, N_OUTPUT)\n",
    "        \n",
    "    def forward(self, x):\n",
    "        x = self.fcs(x)\n",
    "        x = self.fch(x)\n",
    "        x = self.fce(x)\n",
    "        return x"
   ]
  },
  {
   "cell_type": "markdown",
   "metadata": {},
   "source": [
    "# Advection equation \n",
    "\n",
    "$ -\\left( v(x) \\frac{\\partial u}{\\partial x} + v(y) \\frac{\\partial u}{\\partial y} \\right)$\n"
   ]
  },
  {
   "cell_type": "code",
   "execution_count": null,
   "metadata": {},
   "outputs": [],
   "source": [
    "mux = 0.1 \n",
    "muy = 0.05\n",
    "def u0(x):\n",
    "    return np.exp(-100*(x-0.2)**2) # gaussian wave\n",
    "def u_true(x,t):\n",
    "    return  u0(x - mu * t)\n",
    "\n",
    "# 2D advection equation \n",
    "def u_2d_true(x, y, t):\n",
    "        return u0(x - mux * t) * u0(y - muy * t)"
   ]
  },
  {
   "cell_type": "markdown",
   "metadata": {},
   "source": [
    "# Observational input Data"
   ]
  },
  {
   "cell_type": "code",
   "execution_count": null,
   "metadata": {},
   "outputs": [],
   "source": [
    "nx,ny,nt = 10,10,2"
   ]
  },
  {
   "cell_type": "code",
   "execution_count": null,
   "metadata": {},
   "outputs": [],
   "source": [
    "xr = np.linspace(0,1,nx)\n",
    "yr = np.linspace(0,1,ny)\n",
    "tr = np.linspace(0,nt-1,nt).T\n",
    "# print(f'xr: {xr} \\n yr: {yr} \\n tr: {tr}')\n",
    "# print(f'xrshape: {xr.shape} \\n yrshape: {yr.shape} \\n trshape: {tr.shape}')\n",
    "xrmesh , yrmesh, trmesh = np.meshgrid(xr,yr,tr)\n",
    "# print(f'xrmesh: {xrmesh} \\n yrmesh: {yrmesh} \\n trmesh: {trmesh}')\n",
    "print(f'xrmeshshape: {xrmesh.shape} \\n yrmeshshape: {yrmesh.shape} \\n trmeshshape: {trmesh.shape}')\n",
    "\n",
    "ur = u_2d_true(xrmesh,yrmesh,trmesh)\n",
    "\n",
    "#print(ur[:,:,0].shape)\n",
    "# print(ur[0,:,:].shape)\n",
    "# print(xrmesh[0,:,:].shape)\n",
    "#plot ur\n",
    "plt.contourf(xrmesh[:,:,0], yrmesh[:,:,0], ur[:,:,0])\n",
    "plt.xlabel('X')\n",
    "plt.ylabel('Y')\n",
    "plt.title('Data at t=0')\n",
    "plt.colorbar()\n",
    "plt.show()\n",
    "\n",
    "# Stack the 3 2D arrays along a new third dimension, then reshape into a 2D array\n",
    "rin_data = np.stack((xrmesh, yrmesh, trmesh), axis=-1).reshape(-1, 3)\n",
    "rin_data = torch.tensor(rin_data).float()\n",
    "rout_data = torch.tensor(ur).float().reshape(-1,1)\n",
    "\n",
    "rout_data2 = rout_data.numpy().reshape(nx,ny,nt)\n",
    "plt.contourf(xrmesh[:,:,0], yrmesh[:,:,0], rout_data2[:,:,0])\n",
    "plt.xlabel('X')\n",
    "plt.ylabel('Y')\n",
    "plt.title(' actual Data(torch) at t=0')\n",
    "plt.colorbar()\n",
    "plt.show()\n",
    "print(f'rin_data shape: {rin_data.shape} \\n rout_data shape: {rout_data.shape}')"
   ]
  },
  {
   "cell_type": "markdown",
   "metadata": {},
   "source": [
    "# Fitting a Neural Network to the observational data"
   ]
  },
  {
   "cell_type": "code",
   "execution_count": null,
   "metadata": {},
   "outputs": [],
   "source": [
    "torch.manual_seed(123)\n",
    "model = FCN(3,1,32,3)\n",
    "optimizer = torch.optim.Adam(model.parameters(), lr=1e-3)\n",
    "for i in range(5000):\n",
    "    optimizer.zero_grad()\n",
    "    uh = model(rin_data)\n",
    "    \n",
    "    loss = torch.mean((uh-rout_data)**2)\n",
    "    loss.backward()\n",
    "    optimizer.step()\n",
    "    if (i+1) % 1000 == 0:\n",
    "        print(f'Epoch: {i+1}/{10000}, Loss: {loss.item()}')\n",
    "        \n",
    "\n",
    "print(uh.shape, rout_data.shape, rin_data.shape)"
   ]
  },
  {
   "cell_type": "markdown",
   "metadata": {},
   "source": [
    "To check the behavior of the fitted model, we plot model output as a function of x and y for times between t=0 and t=3, and compare it to observed data and the true function."
   ]
  },
  {
   "cell_type": "code",
   "execution_count": null,
   "metadata": {},
   "outputs": [],
   "source": [
    "'''\n",
    "Generate and save the plots for tt = 0-11\n",
    "'''\n",
    "cwd = os.getcwd()\n",
    "true_plot_dir = os.path.join(cwd, '2d-advection', 'true_plot')\n",
    "nn_plot_dir = os.path.join(cwd, '2d-advection', 'nn_plot')\n",
    "\n",
    "# Create the directories if they don't exist\n",
    "os.makedirs(nn_plot_dir, exist_ok=True)\n",
    "os.makedirs(true_plot_dir, exist_ok=True)\n",
    "\n",
    "\n",
    "nt = 10\n",
    "xr = np.linspace(0,1.2,nx)\n",
    "yr = np.linspace(0,1.2,ny)\n",
    "tr = np.linspace(0,nt-1,nt).T\n",
    "# print(f'xr: {xr} \\n yr: {yr} \\n tr: {tr}')\n",
    "# print(f'xrshape: {xr.shape} \\n yrshape: {yr.shape} \\n trshape: {tr.shape}')\n",
    "xrmesh , yrmesh, trmesh = np.meshgrid(xr,yr,tr)\n",
    "# print(f'xrmesh: {xrmesh} \\n yrmesh: {yrmesh} \\n trmesh: {trmesh}')\n",
    "#print(f'xrmeshshape: {xrmesh.shape} \\n yrmeshshape: {yrmesh.shape} \\n trmeshshape: {trmesh.shape}')\n",
    "\n",
    "\n",
    "rin_test = np.stack((xrmesh, yrmesh, trmesh), axis=-1).reshape(-1, 3)\n",
    "rin_test = torch.tensor(rin_test).float()\n",
    "print(model(rin_test.float()).shape)\n",
    "\n",
    "for tt in range(nt):\n",
    "    ur = model(rin_test.float()).detach().numpy().reshape(nx,ny,nt)\n",
    "    ut = u_2d_true(xrmesh,yrmesh,trmesh)\n",
    "    plt.contourf(xrmesh[:,:,0], yrmesh[:,:,0], ur[:,:,tt])\n",
    "    plt.xlabel('X')\n",
    "    plt.ylabel('Y')\n",
    "    plt.title(' NN Data at t='+str(tt))\n",
    "    plt.savefig(nn_plot_dir + '/nn_plot_{}.png'.format(tt))\n",
    "    plt.colorbar()\n",
    "    plt.show()\n",
    "\n",
    "    plt.contourf(xrmesh[:,:,0], yrmesh[:,:,0], ut[:,:,tt])\n",
    "    plt.xlabel('X')\n",
    "    plt.ylabel('Y')\n",
    "    plt.title(' actual Data at t='+str(tt))\n",
    "    plt.savefig(true_plot_dir + '/true_plot_{}.png'.format(tt))\n",
    "    plt.colorbar()\n",
    "    plt.show()\n",
    "\n",
    "\n"
   ]
  },
  {
   "cell_type": "markdown",
   "metadata": {},
   "source": [
    "# Save GIFs"
   ]
  },
  {
   "cell_type": "code",
   "execution_count": null,
   "metadata": {},
   "outputs": [],
   "source": [
    "'''\n",
    "Saves the plots as a GIF\n",
    "'''\n",
    "for _ in ['nn_plot', 'true_plot']:\n",
    "    # Set the directories for the images\n",
    "    plot_dir = os.path.join(cwd, '2d-advection', _)\n",
    "\n",
    "    # Get the list of image files\n",
    "    plot_files = sorted([os.path.join(plot_dir, file) for file in os.listdir(plot_dir)])\n",
    "\n",
    "    # Create a list to store the images\n",
    "    images = []\n",
    "\n",
    "    # Read and append the images to the list\n",
    "    for file in plot_files:\n",
    "        images.append(imageio.imread(file))\n",
    "\n",
    "    # Set the output file path\n",
    "    output_file = os.path.join(cwd, \"2d{}.gif\".format(_))\n",
    "\n",
    "    # Save the images as a GIF\n",
    "    imageio.mimsave(output_file, images, duration=1, loop=10, fps=1, subrectangles=True, palettesize=256)"
   ]
  },
  {
   "cell_type": "markdown",
   "metadata": {},
   "source": [
    "# Adding physics to the loss function"
   ]
  },
  {
   "cell_type": "markdown",
   "metadata": {},
   "source": [
    "We generate a random selection of points over that (x,y)-t domain $(0,1) \\times (0,5)$ at which the physical constraint will be enforced."
   ]
  },
  {
   "cell_type": "code",
   "execution_count": null,
   "metadata": {},
   "outputs": [],
   "source": [
    "nx,ny,nt = 10,10,2\n",
    "#nx,ny,nt = 100,100,2\n",
    "\n",
    "\n",
    "# randomly sample points in (x,y)-t space, where x in [0,1] and t in [0,5]\n",
    "np.random.seed(123)\n",
    "rin_physics = np.random.uniform(size=(nx*ny*nt,3))\n",
    "rin_physics[:,2] *= nt\n",
    "rin_physics = torch.tensor(rin_physics).float().requires_grad_(True)\n",
    "print(f'input tensor shape :{rin_data.shape}')\n",
    "print(f'input tensor physics shape : {rin_physics.shape}')\n",
    "\n",
    "# Input observations to the network : rin_data\n",
    "\n",
    "xr = np.linspace(0,1,nx)\n",
    "yr = np.linspace(0,1,ny)\n",
    "tr = np.linspace(0,nt-1,nt).T\n",
    "# print(f'xr: {xr} \\n yr: {yr} \\n tr: {tr}')\n",
    "# print(f'xrshape: {xr.shape} \\n yrshape: {yr.shape} \\n trshape: {tr.shape}')\n",
    "xrmesh , yrmesh, trmesh = np.meshgrid(xr,yr,tr)\n",
    "# print(f'xrmesh: {xrmesh} \\n yrmesh: {yrmesh} \\n trmesh: {trmesh}')\n",
    "print(f'xrmeshshape: {xrmesh.shape} \\n yrmeshshape: {yrmesh.shape} \\n trmeshshape: {trmesh.shape}')\n",
    "\n",
    "ur = u_2d_true(xrmesh,yrmesh,trmesh)\n",
    "\n",
    "#print(ur[:,:,0].shape)\n",
    "# print(ur[0,:,:].shape)\n",
    "# print(xrmesh[0,:,:].shape)\n",
    "\n",
    "# Stack the 3 2D arrays along a new third dimension, then reshape into a 2D array\n",
    "rin_data = np.stack((xrmesh, yrmesh, trmesh), axis=-1).reshape(-1, 3)\n",
    "rin_data = torch.tensor(rin_data).float()\n"
   ]
  },
  {
   "cell_type": "markdown",
   "metadata": {},
   "source": [
    "# Inverse PINN\n",
    "\n",
    "We now want to create a similar PINN, but suppose we do not know mu - we must now solve the inverse problem and have our network fit correctly, and also return a mu value. This is known as an inverse PINN or iPINN.\n"
   ]
  },
  {
   "cell_type": "code",
   "execution_count": null,
   "metadata": {},
   "outputs": [],
   "source": [
    "class FCN_iPINN(nn.Module):\n",
    "    \"Defines a connected network\"\n",
    "    \n",
    "    def __init__(self, N_INPUT, N_OUTPUT, N_HIDDEN, N_LAYERS):\n",
    "        super().__init__()\n",
    "        activation = nn.Tanh\n",
    "        self.fcs = nn.Sequential(*[\n",
    "                        nn.Linear(N_INPUT, N_HIDDEN),\n",
    "                        activation()])\n",
    "        self.fch = nn.Sequential(*[\n",
    "                        nn.Sequential(*[\n",
    "                            nn.Linear(N_HIDDEN, N_HIDDEN),\n",
    "                            activation()]) for _ in range(N_LAYERS-1)])\n",
    "        self.fce = nn.Linear(N_HIDDEN, N_OUTPUT)\n",
    "        # Initialize velocities as trainable parameters\n",
    "        self.velocity_x = nn.Parameter(torch.tensor(1.0))\n",
    "        self.velocity_y = nn.Parameter(torch.tensor(1.0))\n",
    "        \n",
    "    def forward(self, x):\n",
    "        x = self.fcs(x)\n",
    "        x = self.fch(x)\n",
    "        x = self.fce(x)\n",
    "        return x"
   ]
  },
  {
   "cell_type": "markdown",
   "metadata": {},
   "source": [
    "# Fitting a PINN "
   ]
  },
  {
   "cell_type": "code",
   "execution_count": null,
   "metadata": {},
   "outputs": [],
   "source": [
    "torch.manual_seed(123)\n",
    "# pinn = FCN(3,1,32,3)\n",
    "pinn = FCN_iPINN(3,1,32,3)\n",
    "#mu = torch.tensor(np.linspace(0.1, 0.5, 100).reshape(100,1)).float()\n",
    "\n",
    "#mu_iPINN = torch.nn.Parameter(torch.tensor([1.5], requires_grad=True))\n",
    "mu_lr = 1e-1\n",
    "print(\"The true value of Vx is: \", mux, \"\\n\", \"The initial guessed value of Vx is: \", pinn.velocity_x.item())\n",
    "print(\"The true value of Vy is: \", muy, \"\\n\", \"The initial guessed value of Vy is: \", pinn.velocity_y.item())\n",
    "optimizer = torch.optim.Adam(pinn.parameters(), lr=1e-4)\n",
    "\n",
    "for i in range(5000):\n",
    "    optimizer.zero_grad()\n",
    "    \n",
    "    # compute the \"data loss\"\n",
    "    uh = pinn(rin_data)\n",
    "    loss1 = torch.mean((uh-rout_data)**2) # use mean squared error\n",
    "    \n",
    "    # compute the \"physics loss\"\n",
    "    uhp = pinn(rin_physics)\n",
    "    grad = torch.autograd.grad(outputs=uhp, inputs=rin_physics, \n",
    "                               grad_outputs=torch.ones_like(uhp), create_graph=True)[0]\n",
    "    dudx = grad[:, 0]\n",
    "    dudy = grad[:, 1]\n",
    "    dudt = grad[:, 2]\n",
    "    physics = dudt + pinn.velocity_x * dudx + pinn.velocity_y * dudy # this term is zero if the model output satisfies the advection equation\n",
    "    loss2 = torch.mean((physics)**2)\n",
    "    \n",
    "    # backpropagate combined loss\n",
    "    loss = 2*loss1 + loss2 # add two loss terms together\n",
    "\n",
    "\n",
    "    dJdvx = torch.autograd.grad(loss, pinn.velocity_x, retain_graph=True, create_graph = True)[0]\n",
    "    pinn.velocity_x.data = pinn.velocity_x.data - (mu_lr * dJdvx)\n",
    "\n",
    "    dJdvy = torch.autograd.grad(loss, pinn.velocity_y, retain_graph=True, create_graph = True)[0]\n",
    "    pinn.velocity_y.data = pinn.velocity_y.data - (mu_lr * dJdvy)\n",
    "\n",
    "    loss.backward(retain_graph=True)\n",
    "    optimizer.step()\n",
    "\n",
    "    if (i+1) % 1000 == 0:\n",
    "            print(f'Epoch: {i+1}/{10000}, Loss: {loss.item()}')\n",
    "            print(\"At itteration: \", i, \"\\n\", \"The current value of Vx is: \", pinn.velocity_x.item())\n",
    "            print(\"At itteration: \", i, \"\\n\", \"The current value of Vy is: \", pinn.velocity_y.item())\n",
    "            print(f' NN loss : {loss1.item()}, Physics loss : {loss2.item()}')"
   ]
  },
  {
   "cell_type": "markdown",
   "metadata": {},
   "source": [
    "To check the behavior of the fitted model, we plot model output as a function of x and y for times between t=0 and t=3, and compare it to observed data and the true function."
   ]
  },
  {
   "cell_type": "code",
   "execution_count": null,
   "metadata": {},
   "outputs": [],
   "source": [
    "'''\n",
    "Generate and save the plots for tt = 0-11\n",
    "'''\n",
    "cwd = os.getcwd()\n",
    "true_plot_dir = os.path.join(cwd, '2d-advection', 'true_plot')\n",
    "nn_plot_dir = os.path.join(cwd, '2d-advection', 'pinn_plot')\n",
    "\n",
    "# Create the directories if they don't exist\n",
    "os.makedirs(nn_plot_dir, exist_ok=True)\n",
    "os.makedirs(true_plot_dir, exist_ok=True)\n",
    "\n",
    "\n",
    "nt = 10\n",
    "xr = np.linspace(0,1.2,nx)\n",
    "yr = np.linspace(0,1.2,ny)\n",
    "tr = np.linspace(0,nt-1,nt).T\n",
    "# print(f'xr: {xr} \\n yr: {yr} \\n tr: {tr}')\n",
    "# print(f'xrshape: {xr.shape} \\n yrshape: {yr.shape} \\n trshape: {tr.shape}')\n",
    "xrmesh , yrmesh, trmesh = np.meshgrid(xr,yr,tr)\n",
    "# print(f'xrmesh: {xrmesh} \\n yrmesh: {yrmesh} \\n trmesh: {trmesh}')\n",
    "#print(f'xrmeshshape: {xrmesh.shape} \\n yrmeshshape: {yrmesh.shape} \\n trmeshshape: {trmesh.shape}')\n",
    "\n",
    "\n",
    "rin_test = np.stack((xrmesh, yrmesh, trmesh), axis=-1).reshape(-1, 3)\n",
    "rin_test = torch.tensor(rin_test).float()\n",
    "print(model(rin_test.float()).shape)\n",
    "\n",
    "for tt in range(nt):\n",
    "    ur = pinn(rin_test.float()).detach().numpy().reshape(nx,ny,nt)\n",
    "    ut = u_2d_true(xrmesh,yrmesh,trmesh)\n",
    "    plt.contourf(xrmesh[:,:,0], yrmesh[:,:,0], ur[:,:,tt])\n",
    "    plt.xlabel('X')\n",
    "    plt.ylabel('Y')\n",
    "    plt.title(' PINN Data at t='+str(tt))\n",
    "    plt.savefig(nn_plot_dir + '/pinn_plot_{}.png'.format(tt))\n",
    "    plt.colorbar()\n",
    "    plt.show()\n",
    "\n",
    "    plt.contourf(xrmesh[:,:,0], yrmesh[:,:,0], ut[:,:,tt])\n",
    "    plt.xlabel('X')\n",
    "    plt.ylabel('Y')\n",
    "    plt.title(' actual Data at t='+str(tt))\n",
    "    plt.savefig(true_plot_dir + '/true_plot_{}.png'.format(tt))\n",
    "    plt.colorbar()\n",
    "    plt.show()\n",
    "\n",
    "\n"
   ]
  },
  {
   "cell_type": "markdown",
   "metadata": {},
   "source": [
    "# Save as GIFs"
   ]
  },
  {
   "cell_type": "code",
   "execution_count": null,
   "metadata": {},
   "outputs": [],
   "source": [
    "'''\n",
    "Saves the plots as a GIF\n",
    "'''\n",
    "for _ in ['pinn_plot', 'true_plot']:\n",
    "    # Set the directories for the images\n",
    "    plot_dir = os.path.join(cwd, '2d-advection', _)\n",
    "\n",
    "    # Get the list of image files\n",
    "    plot_files = sorted([os.path.join(plot_dir, file) for file in os.listdir(plot_dir)])\n",
    "\n",
    "    # Create a list to store the images\n",
    "    images = []\n",
    "\n",
    "    # Read and append the images to the list\n",
    "    for file in plot_files:\n",
    "        images.append(imageio.imread(file))\n",
    "\n",
    "    # Set the output file path\n",
    "    output_file = os.path.join(cwd, \"2d{}.gif\".format(_))\n",
    "\n",
    "    # Save the images as a GIF\n",
    "    imageio.mimsave(output_file, images, duration=1, loop=10, fps=1, subrectangles=True, palettesize=256)\n"
   ]
  }
 ],
 "metadata": {
  "kernelspec": {
   "display_name": "pinn",
   "language": "python",
   "name": "python3"
  },
  "language_info": {
   "codemirror_mode": {
    "name": "ipython",
    "version": 3
   },
   "file_extension": ".py",
   "mimetype": "text/x-python",
   "name": "python",
   "nbconvert_exporter": "python",
   "pygments_lexer": "ipython3",
   "version": "3.11.7"
  }
 },
 "nbformat": 4,
 "nbformat_minor": 2
}
