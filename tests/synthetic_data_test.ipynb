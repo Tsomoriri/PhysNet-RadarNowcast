{
 "cells": [
  {
   "cell_type": "code",
<<<<<<< HEAD
   "execution_count": null,
   "id": "initial_id",
   "metadata": {
    "collapsed": true
   },
   "outputs": [],
   "source": [
    ""
   ]
=======
   "id": "initial_id",
   "metadata": {
    "collapsed": true,
    "ExecuteTime": {
     "end_time": "2024-06-20T15:24:15.879583Z",
     "start_time": "2024-06-20T15:24:14.298658Z"
    }
   },
   "source": [
    "import numpy as np\n",
    "import matplotlib.pyplot as plt\n",
    "def rectangular_blob(x, y, center_x, center_y, width, height, sharpness=100):\n",
    "    \"\"\"\n",
    "    Generates a rectangular blob with a smooth gradient.\n",
    "\n",
    "    Args:\n",
    "        x: 2D NumPy array of x-coordinates.\n",
    "        y: 2D NumPy array of y-coordinates.\n",
    "        center_x: x-coordinate of the rectangle's center.\n",
    "        center_y: y-coordinate of the rectangle's center.\n",
    "        width: Width of the rectangle.\n",
    "        height: Height of the rectangle.\n",
    "        sharpness: Controls the steepness of the gradient (similar to the factor in the Gaussian).\n",
    "\n",
    "    Returns:\n",
    "        2D NumPy array representing the rectangular blob.\n",
    "    \"\"\"\n",
    "\n",
    "    dx = np.maximum(np.abs(x - center_x) - width / 2, 0)  # Distance to vertical edges\n",
    "    dy = np.maximum(np.abs(y - center_y) - height / 2, 0)  # Distance to horizontal edges\n",
    "    distance = np.sqrt(dx**2 + dy**2)                     # Overall distance to nearest edge\n",
    "\n",
    "    result = np.exp(-sharpness * distance)                # Smooth transition\n",
    "    return result\n",
    "\n",
    "\n",
    "# Example usage (assuming you have x and y meshgrids):\n",
    "x, y, t = 100, 100, 10\n",
    "center_x, center_y = 0.5, 0.5   # Center of the grid\n",
    "width, height = 0.4, 0.3         # Rectangle dimensions\n",
    "xr = np.linspace(0, 1, x)\n",
    "yr = np.linspace(0, 1, y)\n",
    "tr = np.linspace(0, t - 1, t).T\n",
    "xrmesh, yrmesh, trmesh = np.meshgrid(xr, yr, tr)\n",
    "rectangular_blob_array = rectangular_blob(x, y, center_x, center_y, width, height)\n",
    "\n",
    "# Plot the rectangular blob\n",
    "plt.figure(figsize=(6, 6))\n",
    "plt.imshow(rectangular_blob_array, origin='lower', extent=[0, 1, 0, 1], cmap='viridis')\n",
    "plt.colorbar(label='Blob intensity')\n",
    "plt.title('Rectangular Blob')\n",
    "plt.xlabel('X')\n",
    "plt.ylabel('Y')\n",
    "plt.show()\n"
   ],
   "outputs": [
    {
     "ename": "TypeError",
     "evalue": "Invalid shape () for image data",
     "output_type": "error",
     "traceback": [
      "\u001B[0;31m---------------------------------------------------------------------------\u001B[0m",
      "\u001B[0;31mTypeError\u001B[0m                                 Traceback (most recent call last)",
      "Cell \u001B[0;32mIn[1], line 40\u001B[0m\n\u001B[1;32m     38\u001B[0m \u001B[38;5;66;03m# Plot the rectangular blob\u001B[39;00m\n\u001B[1;32m     39\u001B[0m plt\u001B[38;5;241m.\u001B[39mfigure(figsize\u001B[38;5;241m=\u001B[39m(\u001B[38;5;241m6\u001B[39m, \u001B[38;5;241m6\u001B[39m))\n\u001B[0;32m---> 40\u001B[0m plt\u001B[38;5;241m.\u001B[39mimshow(rectangular_blob_array, origin\u001B[38;5;241m=\u001B[39m\u001B[38;5;124m'\u001B[39m\u001B[38;5;124mlower\u001B[39m\u001B[38;5;124m'\u001B[39m, extent\u001B[38;5;241m=\u001B[39m[\u001B[38;5;241m0\u001B[39m, \u001B[38;5;241m1\u001B[39m, \u001B[38;5;241m0\u001B[39m, \u001B[38;5;241m1\u001B[39m], cmap\u001B[38;5;241m=\u001B[39m\u001B[38;5;124m'\u001B[39m\u001B[38;5;124mviridis\u001B[39m\u001B[38;5;124m'\u001B[39m)\n\u001B[1;32m     41\u001B[0m plt\u001B[38;5;241m.\u001B[39mcolorbar(label\u001B[38;5;241m=\u001B[39m\u001B[38;5;124m'\u001B[39m\u001B[38;5;124mBlob intensity\u001B[39m\u001B[38;5;124m'\u001B[39m)\n\u001B[1;32m     42\u001B[0m plt\u001B[38;5;241m.\u001B[39mtitle(\u001B[38;5;124m'\u001B[39m\u001B[38;5;124mRectangular Blob\u001B[39m\u001B[38;5;124m'\u001B[39m)\n",
      "File \u001B[0;32m~/anaconda3/envs/pinn/lib/python3.11/site-packages/matplotlib/pyplot.py:3346\u001B[0m, in \u001B[0;36mimshow\u001B[0;34m(X, cmap, norm, aspect, interpolation, alpha, vmin, vmax, origin, extent, interpolation_stage, filternorm, filterrad, resample, url, data, **kwargs)\u001B[0m\n\u001B[1;32m   3325\u001B[0m \u001B[38;5;129m@_copy_docstring_and_deprecators\u001B[39m(Axes\u001B[38;5;241m.\u001B[39mimshow)\n\u001B[1;32m   3326\u001B[0m \u001B[38;5;28;01mdef\u001B[39;00m \u001B[38;5;21mimshow\u001B[39m(\n\u001B[1;32m   3327\u001B[0m     X: ArrayLike \u001B[38;5;241m|\u001B[39m PIL\u001B[38;5;241m.\u001B[39mImage\u001B[38;5;241m.\u001B[39mImage,\n\u001B[0;32m   (...)\u001B[0m\n\u001B[1;32m   3344\u001B[0m     \u001B[38;5;241m*\u001B[39m\u001B[38;5;241m*\u001B[39mkwargs,\n\u001B[1;32m   3345\u001B[0m ) \u001B[38;5;241m-\u001B[39m\u001B[38;5;241m>\u001B[39m AxesImage:\n\u001B[0;32m-> 3346\u001B[0m     __ret \u001B[38;5;241m=\u001B[39m gca()\u001B[38;5;241m.\u001B[39mimshow(\n\u001B[1;32m   3347\u001B[0m         X,\n\u001B[1;32m   3348\u001B[0m         cmap\u001B[38;5;241m=\u001B[39mcmap,\n\u001B[1;32m   3349\u001B[0m         norm\u001B[38;5;241m=\u001B[39mnorm,\n\u001B[1;32m   3350\u001B[0m         aspect\u001B[38;5;241m=\u001B[39maspect,\n\u001B[1;32m   3351\u001B[0m         interpolation\u001B[38;5;241m=\u001B[39minterpolation,\n\u001B[1;32m   3352\u001B[0m         alpha\u001B[38;5;241m=\u001B[39malpha,\n\u001B[1;32m   3353\u001B[0m         vmin\u001B[38;5;241m=\u001B[39mvmin,\n\u001B[1;32m   3354\u001B[0m         vmax\u001B[38;5;241m=\u001B[39mvmax,\n\u001B[1;32m   3355\u001B[0m         origin\u001B[38;5;241m=\u001B[39morigin,\n\u001B[1;32m   3356\u001B[0m         extent\u001B[38;5;241m=\u001B[39mextent,\n\u001B[1;32m   3357\u001B[0m         interpolation_stage\u001B[38;5;241m=\u001B[39minterpolation_stage,\n\u001B[1;32m   3358\u001B[0m         filternorm\u001B[38;5;241m=\u001B[39mfilternorm,\n\u001B[1;32m   3359\u001B[0m         filterrad\u001B[38;5;241m=\u001B[39mfilterrad,\n\u001B[1;32m   3360\u001B[0m         resample\u001B[38;5;241m=\u001B[39mresample,\n\u001B[1;32m   3361\u001B[0m         url\u001B[38;5;241m=\u001B[39murl,\n\u001B[1;32m   3362\u001B[0m         \u001B[38;5;241m*\u001B[39m\u001B[38;5;241m*\u001B[39m({\u001B[38;5;124m\"\u001B[39m\u001B[38;5;124mdata\u001B[39m\u001B[38;5;124m\"\u001B[39m: data} \u001B[38;5;28;01mif\u001B[39;00m data \u001B[38;5;129;01mis\u001B[39;00m \u001B[38;5;129;01mnot\u001B[39;00m \u001B[38;5;28;01mNone\u001B[39;00m \u001B[38;5;28;01melse\u001B[39;00m {}),\n\u001B[1;32m   3363\u001B[0m         \u001B[38;5;241m*\u001B[39m\u001B[38;5;241m*\u001B[39mkwargs,\n\u001B[1;32m   3364\u001B[0m     )\n\u001B[1;32m   3365\u001B[0m     sci(__ret)\n\u001B[1;32m   3366\u001B[0m     \u001B[38;5;28;01mreturn\u001B[39;00m __ret\n",
      "File \u001B[0;32m~/anaconda3/envs/pinn/lib/python3.11/site-packages/matplotlib/__init__.py:1465\u001B[0m, in \u001B[0;36m_preprocess_data.<locals>.inner\u001B[0;34m(ax, data, *args, **kwargs)\u001B[0m\n\u001B[1;32m   1462\u001B[0m \u001B[38;5;129m@functools\u001B[39m\u001B[38;5;241m.\u001B[39mwraps(func)\n\u001B[1;32m   1463\u001B[0m \u001B[38;5;28;01mdef\u001B[39;00m \u001B[38;5;21minner\u001B[39m(ax, \u001B[38;5;241m*\u001B[39margs, data\u001B[38;5;241m=\u001B[39m\u001B[38;5;28;01mNone\u001B[39;00m, \u001B[38;5;241m*\u001B[39m\u001B[38;5;241m*\u001B[39mkwargs):\n\u001B[1;32m   1464\u001B[0m     \u001B[38;5;28;01mif\u001B[39;00m data \u001B[38;5;129;01mis\u001B[39;00m \u001B[38;5;28;01mNone\u001B[39;00m:\n\u001B[0;32m-> 1465\u001B[0m         \u001B[38;5;28;01mreturn\u001B[39;00m func(ax, \u001B[38;5;241m*\u001B[39m\u001B[38;5;28mmap\u001B[39m(sanitize_sequence, args), \u001B[38;5;241m*\u001B[39m\u001B[38;5;241m*\u001B[39mkwargs)\n\u001B[1;32m   1467\u001B[0m     bound \u001B[38;5;241m=\u001B[39m new_sig\u001B[38;5;241m.\u001B[39mbind(ax, \u001B[38;5;241m*\u001B[39margs, \u001B[38;5;241m*\u001B[39m\u001B[38;5;241m*\u001B[39mkwargs)\n\u001B[1;32m   1468\u001B[0m     auto_label \u001B[38;5;241m=\u001B[39m (bound\u001B[38;5;241m.\u001B[39marguments\u001B[38;5;241m.\u001B[39mget(label_namer)\n\u001B[1;32m   1469\u001B[0m                   \u001B[38;5;129;01mor\u001B[39;00m bound\u001B[38;5;241m.\u001B[39mkwargs\u001B[38;5;241m.\u001B[39mget(label_namer))\n",
      "File \u001B[0;32m~/anaconda3/envs/pinn/lib/python3.11/site-packages/matplotlib/axes/_axes.py:5751\u001B[0m, in \u001B[0;36mAxes.imshow\u001B[0;34m(self, X, cmap, norm, aspect, interpolation, alpha, vmin, vmax, origin, extent, interpolation_stage, filternorm, filterrad, resample, url, **kwargs)\u001B[0m\n\u001B[1;32m   5748\u001B[0m \u001B[38;5;28;01mif\u001B[39;00m aspect \u001B[38;5;129;01mis\u001B[39;00m \u001B[38;5;129;01mnot\u001B[39;00m \u001B[38;5;28;01mNone\u001B[39;00m:\n\u001B[1;32m   5749\u001B[0m     \u001B[38;5;28mself\u001B[39m\u001B[38;5;241m.\u001B[39mset_aspect(aspect)\n\u001B[0;32m-> 5751\u001B[0m im\u001B[38;5;241m.\u001B[39mset_data(X)\n\u001B[1;32m   5752\u001B[0m im\u001B[38;5;241m.\u001B[39mset_alpha(alpha)\n\u001B[1;32m   5753\u001B[0m \u001B[38;5;28;01mif\u001B[39;00m im\u001B[38;5;241m.\u001B[39mget_clip_path() \u001B[38;5;129;01mis\u001B[39;00m \u001B[38;5;28;01mNone\u001B[39;00m:\n\u001B[1;32m   5754\u001B[0m     \u001B[38;5;66;03m# image does not already have clipping set, clip to axes patch\u001B[39;00m\n",
      "File \u001B[0;32m~/anaconda3/envs/pinn/lib/python3.11/site-packages/matplotlib/image.py:723\u001B[0m, in \u001B[0;36m_ImageBase.set_data\u001B[0;34m(self, A)\u001B[0m\n\u001B[1;32m    721\u001B[0m \u001B[38;5;28;01mif\u001B[39;00m \u001B[38;5;28misinstance\u001B[39m(A, PIL\u001B[38;5;241m.\u001B[39mImage\u001B[38;5;241m.\u001B[39mImage):\n\u001B[1;32m    722\u001B[0m     A \u001B[38;5;241m=\u001B[39m pil_to_array(A)  \u001B[38;5;66;03m# Needed e.g. to apply png palette.\u001B[39;00m\n\u001B[0;32m--> 723\u001B[0m \u001B[38;5;28mself\u001B[39m\u001B[38;5;241m.\u001B[39m_A \u001B[38;5;241m=\u001B[39m \u001B[38;5;28mself\u001B[39m\u001B[38;5;241m.\u001B[39m_normalize_image_array(A)\n\u001B[1;32m    724\u001B[0m \u001B[38;5;28mself\u001B[39m\u001B[38;5;241m.\u001B[39m_imcache \u001B[38;5;241m=\u001B[39m \u001B[38;5;28;01mNone\u001B[39;00m\n\u001B[1;32m    725\u001B[0m \u001B[38;5;28mself\u001B[39m\u001B[38;5;241m.\u001B[39mstale \u001B[38;5;241m=\u001B[39m \u001B[38;5;28;01mTrue\u001B[39;00m\n",
      "File \u001B[0;32m~/anaconda3/envs/pinn/lib/python3.11/site-packages/matplotlib/image.py:693\u001B[0m, in \u001B[0;36m_ImageBase._normalize_image_array\u001B[0;34m(A)\u001B[0m\n\u001B[1;32m    691\u001B[0m     A \u001B[38;5;241m=\u001B[39m A\u001B[38;5;241m.\u001B[39msqueeze(\u001B[38;5;241m-\u001B[39m\u001B[38;5;241m1\u001B[39m)  \u001B[38;5;66;03m# If just (M, N, 1), assume scalar and apply colormap.\u001B[39;00m\n\u001B[1;32m    692\u001B[0m \u001B[38;5;28;01mif\u001B[39;00m \u001B[38;5;129;01mnot\u001B[39;00m (A\u001B[38;5;241m.\u001B[39mndim \u001B[38;5;241m==\u001B[39m \u001B[38;5;241m2\u001B[39m \u001B[38;5;129;01mor\u001B[39;00m A\u001B[38;5;241m.\u001B[39mndim \u001B[38;5;241m==\u001B[39m \u001B[38;5;241m3\u001B[39m \u001B[38;5;129;01mand\u001B[39;00m A\u001B[38;5;241m.\u001B[39mshape[\u001B[38;5;241m-\u001B[39m\u001B[38;5;241m1\u001B[39m] \u001B[38;5;129;01min\u001B[39;00m [\u001B[38;5;241m3\u001B[39m, \u001B[38;5;241m4\u001B[39m]):\n\u001B[0;32m--> 693\u001B[0m     \u001B[38;5;28;01mraise\u001B[39;00m \u001B[38;5;167;01mTypeError\u001B[39;00m(\u001B[38;5;124mf\u001B[39m\u001B[38;5;124m\"\u001B[39m\u001B[38;5;124mInvalid shape \u001B[39m\u001B[38;5;132;01m{\u001B[39;00mA\u001B[38;5;241m.\u001B[39mshape\u001B[38;5;132;01m}\u001B[39;00m\u001B[38;5;124m for image data\u001B[39m\u001B[38;5;124m\"\u001B[39m)\n\u001B[1;32m    694\u001B[0m \u001B[38;5;28;01mif\u001B[39;00m A\u001B[38;5;241m.\u001B[39mndim \u001B[38;5;241m==\u001B[39m \u001B[38;5;241m3\u001B[39m:\n\u001B[1;32m    695\u001B[0m     \u001B[38;5;66;03m# If the input data has values outside the valid range (after\u001B[39;00m\n\u001B[1;32m    696\u001B[0m     \u001B[38;5;66;03m# normalisation), we issue a warning and then clip X to the bounds\u001B[39;00m\n\u001B[1;32m    697\u001B[0m     \u001B[38;5;66;03m# - otherwise casting wraps extreme values, hiding outliers and\u001B[39;00m\n\u001B[1;32m    698\u001B[0m     \u001B[38;5;66;03m# making reliable interpretation impossible.\u001B[39;00m\n\u001B[1;32m    699\u001B[0m     high \u001B[38;5;241m=\u001B[39m \u001B[38;5;241m255\u001B[39m \u001B[38;5;28;01mif\u001B[39;00m np\u001B[38;5;241m.\u001B[39missubdtype(A\u001B[38;5;241m.\u001B[39mdtype, np\u001B[38;5;241m.\u001B[39minteger) \u001B[38;5;28;01melse\u001B[39;00m \u001B[38;5;241m1\u001B[39m\n",
      "\u001B[0;31mTypeError\u001B[0m: Invalid shape () for image data"
     ]
    },
    {
     "data": {
      "text/plain": [
       "<Figure size 600x600 with 1 Axes>"
      ],
      "image/png": "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"
     },
     "metadata": {},
     "output_type": "display_data"
    }
   ],
   "execution_count": 1
>>>>>>> 8e09006 (resolved git lfs error)
  }
 ],
 "metadata": {
  "kernelspec": {
   "display_name": "Python 3",
   "language": "python",
   "name": "python3"
  },
  "language_info": {
   "codemirror_mode": {
    "name": "ipython",
    "version": 2
   },
   "file_extension": ".py",
   "mimetype": "text/x-python",
   "name": "python",
   "nbconvert_exporter": "python",
   "pygments_lexer": "ipython2",
   "version": "2.7.6"
  }
 },
 "nbformat": 4,
 "nbformat_minor": 5
}
