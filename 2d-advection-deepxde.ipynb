{
 "cells": [
  {
   "cell_type": "code",
   "execution_count": 18,
   "metadata": {},
   "outputs": [],
   "source": [
    "import numpy as np\n",
    "import torch\n",
    "import torch.nn as nn\n",
    "import matplotlib.pyplot as plt\n",
    "import matplotlib.cm as cm\n",
    "import math\n",
    "import os\n",
    "\n",
    "import imageio"
   ]
  },
  {
   "cell_type": "code",
   "execution_count": null,
   "metadata": {},
   "outputs": [],
   "source": []
  },
  {
   "cell_type": "code",
   "execution_count": 16,
   "metadata": {},
   "outputs": [
    {
     "name": "stdout",
     "output_type": "stream",
     "text": [
      "Compiling model...\n",
      "'compile' took 0.000763 s\n",
      "\n",
      "Warning: epochs is deprecated and will be removed in a future version. Use iterations instead.\n",
      "Training model...\n",
      "\n",
      "Step      Train loss                        Test loss                         Test metric\n",
      "0         [1.67e-01, 1.22e-01, 4.60e-02]    [1.67e-01, 1.22e-01, 4.60e-02]    []  \n",
      "1000      [1.91e-05, 2.19e-05, 3.20e-03]    [1.91e-05, 2.19e-05, 3.20e-03]    []  \n",
      "2000      [1.34e-05, 2.10e-05, 3.15e-03]    [1.34e-05, 2.10e-05, 3.15e-03]    []  \n",
      "3000      [1.47e-05, 2.46e-05, 3.03e-03]    [1.47e-05, 2.46e-05, 3.03e-03]    []  \n",
      "4000      [2.42e-05, 5.13e-05, 2.47e-03]    [2.42e-05, 5.13e-05, 2.47e-03]    []  \n",
      "5000      [2.23e-05, 4.27e-05, 2.76e-04]    [2.23e-05, 4.27e-05, 2.76e-04]    []  \n",
      "\n",
      "Best model at step 5000:\n",
      "  train loss: 3.41e-04\n",
      "  test loss: 3.41e-04\n",
      "  test metric: []\n",
      "\n",
      "'train' took 12.964764 s\n",
      "\n"
     ]
    },
    {
     "data": {
      "text/plain": [
       "(<deepxde.model.LossHistory at 0x7f43be40ce20>,\n",
       " <deepxde.model.TrainState at 0x7f43c15d2160>)"
      ]
     },
     "execution_count": 16,
     "metadata": {},
     "output_type": "execute_result"
    }
   ],
   "source": [
    "import numpy as np\n",
    "import deepxde as dde\n",
    "\n",
    "# Define the geometry and time domain\n",
    "geom = dde.geometry.Rectangle([-1, -1], [1, 1])\n",
    "timedomain = dde.geometry.TimeDomain(0, 1)\n",
    "geomtime = dde.geometry.GeometryXTime(geom, timedomain)\n",
    "\n",
    "# Define the PDE\n",
    "def pde(x, u):\n",
    "    du_x = dde.grad.jacobian(u, x, i=0, j=0)\n",
    "    du_y = dde.grad.jacobian(u, x, i=0, j=1)\n",
    "    du_t = dde.grad.jacobian(u, x, i=0, j=2)\n",
    "    mu = 0.1\n",
    "    return du_t + mu * (du_x + du_y)\n",
    "\n",
    "# Define the boundary conditions\n",
    "bc = dde.DirichletBC(geomtime, lambda x: 0, lambda _, on_boundary: on_boundary)\n",
    "\n",
    "# Define the initial conditions\n",
    "ic = dde.IC(geomtime, lambda x:np.exp(-100 * (x[:, 0:1] - 0.2)**2) * np.exp(-100 * (x[:, 1:2] - 0.2)**2) , lambda _, on_initial: on_initial)\n",
    "\n",
    "# Define the model\n",
    "data = dde.data.TimePDE(geomtime, pde, [bc, ic], num_domain=400, num_boundary=200, num_initial=100)\n",
    "net = dde.maps.FNN([3] + [20] * 3 + [2], \"tanh\", \"Glorot normal\")\n",
    "model = dde.Model(data, net)\n",
    "\n",
    "# Train the model\n",
    "model.compile(\"adam\", lr=0.001)\n",
    "model.train(epochs=5000)"
   ]
  },
  {
   "cell_type": "code",
   "execution_count": 19,
   "metadata": {},
   "outputs": [],
   "source": [
    "# Test the model\n",
    "x_test = np.meshgrid(np.linspace(-1, 1, 100), np.linspace(-1, 1, 100))\n",
    "x_test = np.vstack((x_test[0].flatten(), x_test[1].flatten(), np.ones_like(x_test[0].flatten()))).T\n",
    "\n",
    "\n",
    "'''\n",
    "Generate and save the plots for tt = 0-11\n",
    "'''\n",
    "cwd = os.getcwd()\n",
    "true_plot_dir = os.path.join(cwd, '2d-advection', 'true_plot')\n",
    "nn_plot_dir = os.path.join(cwd, '2d-advection', 'pinn_plot')\n",
    "\n",
    "# Create the directories if they don't exist\n",
    "os.makedirs(nn_plot_dir, exist_ok=True)\n",
    "os.makedirs(true_plot_dir, exist_ok=True)\n",
    "\n",
    "for  i in range(10):\n",
    "    x_test[:,2] = i\n",
    "    # Predict using the model\n",
    "    y_pred = model.predict(x_test)\n",
    "\n",
    "    y_true = np.exp(-100 * (x_test[:, 0] - 0.2 - 0.1 * i)**2) * np.exp(-100 * (x_test[:, 1] - 0.2 - 0.1 * i)**2)\n",
    "\n",
    "    # Plot the results\n",
    "    plt.figure(figsize=(8, 6))\n",
    "    plt.tricontourf(x_test[:, 0], x_test[:, 1], y_pred[:, 0], cmap=cm.jet)\n",
    "    plt.colorbar()\n",
    "    plt.xlabel('X')\n",
    "    plt.ylabel('Y')\n",
    "    plt.title('PINN Plot at t = {}'.format(i))\n",
    "    plt.savefig(nn_plot_dir + '/pinn_plot_{}.png'.format(i))\n",
    "    plt.close()\n",
    "\n",
    "    plt.figure(figsize=(8, 6))\n",
    "    plt.tricontourf(x_test[:, 0], x_test[:, 1], y_true, cmap=cm.jet)\n",
    "    plt.colorbar()\n",
    "    plt.xlabel('X')\n",
    "    plt.ylabel('Y')\n",
    "    plt.title('True Plot at t = {}'.format(i))\n",
    "    plt.savefig(true_plot_dir + '/true_plot_{}.png'.format(i))\n",
    "    plt.close()\n"
   ]
  },
  {
   "cell_type": "code",
   "execution_count": 20,
   "metadata": {},
   "outputs": [
    {
     "name": "stderr",
     "output_type": "stream",
     "text": [
      "/tmp/ipykernel_5546/3618420498.py:16: DeprecationWarning: Starting with ImageIO v3 the behavior of this function will switch to that of iio.v3.imread. To keep the current behavior (and make this warning disappear) use `import imageio.v2 as imageio` or call `imageio.v2.imread` directly.\n",
      "  images.append(imageio.imread(file))\n"
     ]
    }
   ],
   "source": [
    "'''\n",
    "Saves the plots as a GIF\n",
    "'''\n",
    "for _ in ['pinn_plot', 'true_plot']:\n",
    "    # Set the directories for the images\n",
    "    plot_dir = os.path.join(cwd, '2d-advection', _)\n",
    "\n",
    "    # Get the list of image files\n",
    "    plot_files = sorted([os.path.join(plot_dir, file) for file in os.listdir(plot_dir)])\n",
    "\n",
    "    # Create a list to store the images\n",
    "    images = []\n",
    "\n",
    "    # Read and append the images to the list\n",
    "    for file in plot_files:\n",
    "        images.append(imageio.imread(file))\n",
    "\n",
    "    # Set the output file path\n",
    "    output_file = os.path.join(cwd, \"2d{}.gif\".format(_))\n",
    "\n",
    "    # Save the images as a GIF\n",
    "    imageio.mimsave(output_file, images, duration=1, loop=10, fps=1, subrectangles=True, palettesize=256)\n"
   ]
  }
 ],
 "metadata": {
  "kernelspec": {
   "display_name": "deepxde",
   "language": "python",
   "name": "python3"
  },
  "language_info": {
   "codemirror_mode": {
    "name": "ipython",
    "version": 3
   },
   "file_extension": ".py",
   "mimetype": "text/x-python",
   "name": "python",
   "nbconvert_exporter": "python",
   "pygments_lexer": "ipython3",
   "version": "3.8.18"
  }
 },
 "nbformat": 4,
 "nbformat_minor": 2
}
